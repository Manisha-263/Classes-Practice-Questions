{
  "nbformat": 4,
  "nbformat_minor": 0,
  "metadata": {
    "colab": {
      "provenance": [],
      "authorship_tag": "ABX9TyPpc/axVuiuy0BiuClXW0On",
      "include_colab_link": true
    },
    "kernelspec": {
      "name": "python3",
      "display_name": "Python 3"
    },
    "language_info": {
      "name": "python"
    }
  },
  "cells": [
    {
      "cell_type": "markdown",
      "metadata": {
        "id": "view-in-github",
        "colab_type": "text"
      },
      "source": [
        "<a href=\"https://colab.research.google.com/github/Manisha-263/Classes-Practice-Questions/blob/main/Manisha_Bibi_%2C_FA24_BBD_045(A).ipynb\" target=\"_parent\"><img src=\"https://colab.research.google.com/assets/colab-badge.svg\" alt=\"Open In Colab\"/></a>"
      ]
    },
    {
      "cell_type": "markdown",
      "source": [
        "## **Task 1: Handling Missing Values**"
      ],
      "metadata": {
        "id": "LnqCoPM3Hn5J"
      }
    },
    {
      "cell_type": "code",
      "source": [
        "import pandas as pd\n",
        "import numpy as np\n"
      ],
      "metadata": {
        "id": "OStglqolHO0R"
      },
      "execution_count": 3,
      "outputs": []
    },
    {
      "cell_type": "markdown",
      "source": [
        "## **Assigning DataFrame to DF**"
      ],
      "metadata": {
        "id": "3ksNBMwlMHkW"
      }
    },
    {
      "cell_type": "code",
      "source": [
        "# Load the dataset (replace 'melb_data.csv' with the actual file path)\n",
        "df = pd.read_csv('melb_data.csv')"
      ],
      "metadata": {
        "id": "rTWULOCOJLT6"
      },
      "execution_count": 2,
      "outputs": []
    },
    {
      "cell_type": "code",
      "source": [
        "# Step 1: Identify and drop columns with more than 20% missing values\n",
        "print(\"\\nHandling Missing Values...\")\n",
        "missing_percent = (df.isna().sum() / len(df)) * 100\n",
        "columns_to_drop = missing_percent[missing_percent > 20].index\n",
        "df.drop(columns=columns_to_drop, inplace=True)\n",
        "print(\"Dropped columns with more than 20% missing values:\", columns_to_drop)\n"
      ],
      "metadata": {
        "colab": {
          "base_uri": "https://localhost:8080/"
        },
        "id": "PR8TgcCiMfLW",
        "outputId": "2e901326-39f0-4f2f-a9a9-b9a4cce1e386"
      },
      "execution_count": 5,
      "outputs": [
        {
          "output_type": "stream",
          "name": "stdout",
          "text": [
            "\n",
            "Handling Missing Values...\n",
            "Dropped columns with more than 20% missing values: Index([], dtype='object')\n"
          ]
        }
      ]
    },
    {
      "cell_type": "code",
      "source": [
        "# Identify numeric columns\n",
        "numeric_cols = df.select_dtypes(include=np.number).columns\n",
        "\n",
        "# Calculate medians for only numeric columns\n",
        "median_values = df[numeric_cols].median()\n",
        "\n",
        "# Fill NaN values using the calculated medians\n",
        "df.fillna(median_values, inplace=True)\n",
        "\n",
        "print(\"Filled missing numerical values with median.\")"
      ],
      "metadata": {
        "colab": {
          "base_uri": "https://localhost:8080/"
        },
        "id": "jGcQWZPFNnLR",
        "outputId": "4356d94b-1e7e-4ae1-8e6e-aa500c0a0547"
      },
      "execution_count": 8,
      "outputs": [
        {
          "output_type": "stream",
          "name": "stdout",
          "text": [
            "Filled missing numerical values with median.\n"
          ]
        }
      ]
    },
    {
      "cell_type": "code",
      "source": [
        "# Step 3: Fill missing categorical values with mode\n",
        "for col in df.select_dtypes(include=['object']).columns:\n",
        "    df[col].fillna(df[col].mode()[0], inplace=True)\n",
        "print(\"Filled categorical missing values with mode.\")\n"
      ],
      "metadata": {
        "colab": {
          "base_uri": "https://localhost:8080/"
        },
        "id": "7MwUdoO6OUDh",
        "outputId": "6ca4e00f-09cf-4c9f-d882-6038fe664e07"
      },
      "execution_count": 9,
      "outputs": [
        {
          "output_type": "stream",
          "name": "stdout",
          "text": [
            "Filled categorical missing values with mode.\n"
          ]
        },
        {
          "output_type": "stream",
          "name": "stderr",
          "text": [
            "<ipython-input-9-10ab2e8ba360>:3: FutureWarning: A value is trying to be set on a copy of a DataFrame or Series through chained assignment using an inplace method.\n",
            "The behavior will change in pandas 3.0. This inplace method will never work because the intermediate object on which we are setting values always behaves as a copy.\n",
            "\n",
            "For example, when doing 'df[col].method(value, inplace=True)', try using 'df.method({col: value}, inplace=True)' or df[col] = df[col].method(value) instead, to perform the operation inplace on the original object.\n",
            "\n",
            "\n",
            "  df[col].fillna(df[col].mode()[0], inplace=True)\n"
          ]
        }
      ]
    },
    {
      "cell_type": "markdown",
      "source": [
        "## **Task 2: Advanced Filtering and Indexing**"
      ],
      "metadata": {
        "id": "i95x9PckO5-c"
      }
    },
    {
      "cell_type": "code",
      "source": [
        "# Step 1: Retrieve properties in Richmond with price > 1,000,000\n",
        "richmond_houses = df[(df[\"Suburb\"] == \"Richmond\") & (df[\"Price\"] > 1000000)]\n",
        "print(\"Properties in Richmond with price > $1M:\")\n",
        "print(richmond_houses.head())"
      ],
      "metadata": {
        "colab": {
          "base_uri": "https://localhost:8080/"
        },
        "id": "TBjuYDVaPHgN",
        "outputId": "c6c33d90-572c-43ec-e364-705087b7e5eb"
      },
      "execution_count": 11,
      "outputs": [
        {
          "output_type": "stream",
          "name": "stdout",
          "text": [
            "Properties in Richmond with price > $1M:\n",
            "        Suburb          Address  Rooms Type      Price Method        SellerG  \\\n",
            "5257  Richmond       81 Erin St      3    h  1260000.0      S         Biggin   \n",
            "5258  Richmond  52 Lyndhurst St      3    t  1236000.0      S         Jellis   \n",
            "5263  Richmond        7 Bank St      3    h  1600000.0      S  hockingstuart   \n",
            "5264  Richmond      29 Bowen St      3    h  2180000.0     PI           Blue   \n",
            "5266  Richmond      131 Lord St      4    h  3335000.0      S         Jellis   \n",
            "\n",
            "           Date  Distance  Postcode  Bedroom2  Bathroom  Car  Landsize  \\\n",
            "5257  3/09/2016       2.6    3121.0       2.0       1.0  0.0     203.0   \n",
            "5258  3/09/2016       2.6    3121.0       3.0       2.0  1.0     675.0   \n",
            "5263  3/12/2016       2.6    3121.0       3.0       2.0  1.0     115.0   \n",
            "5264  3/12/2016       2.6    3121.0       3.0       2.0  2.0     345.0   \n",
            "5266  3/12/2016       2.6    3121.0       4.0       2.0  2.0     319.0   \n",
            "\n",
            "     CouncilArea  Lattitude  Longtitude             Regionname  Propertycount  \n",
            "5257       Yarra   -37.8166    144.9945  Northern Metropolitan        14949.0  \n",
            "5258       Yarra   -37.8206    145.0003  Northern Metropolitan        14949.0  \n",
            "5263       Yarra   -37.8163    144.9984  Northern Metropolitan        14949.0  \n",
            "5264       Yarra   -37.8159    144.9940  Northern Metropolitan        14949.0  \n",
            "5266       Yarra   -37.8244    145.0044  Northern Metropolitan        14949.0  \n"
          ]
        }
      ]
    },
    {
      "cell_type": "code",
      "source": [
        "# Step 2: Extract specific columns where land size is above 500 sqm\n",
        "df_filtered = df.loc[df[\"Landsize\"] > 500, [\"Price\", \"Suburb\"]]\n",
        "print(\"Extracted properties with land size > 500 sqm:\")\n",
        "print(df_filtered.head())"
      ],
      "metadata": {
        "colab": {
          "base_uri": "https://localhost:8080/"
        },
        "id": "O8xDak0iQVex",
        "outputId": "e7bb4326-eff5-41ac-bbb8-91c1a3f4fc94"
      },
      "execution_count": 37,
      "outputs": [
        {
          "output_type": "stream",
          "name": "stdout",
          "text": [
            "Extracted properties with land size > 500 sqm:\n",
            "        Price        Suburb\n",
            "20  1330000.0    Abbotsford\n",
            "22  1090000.0    Abbotsford\n",
            "45   720000.0  Airport West\n",
            "46   785000.0  Airport West\n",
            "47   725000.0  Airport West\n"
          ]
        }
      ]
    },
    {
      "cell_type": "code",
      "source": [
        "# Step 3: Find top 5 most expensive houses\n",
        "df_sorted = df.sort_values(by=\"Price\", ascending=False)\n",
        "print(\"Top 5 most expensive houses:\")\n",
        "df_sorted.head(5)"
      ],
      "metadata": {
        "colab": {
          "base_uri": "https://localhost:8080/",
          "height": 394
        },
        "id": "K9dtrbEPQxLM",
        "outputId": "ba063666-cb01-4c09-95dd-c81c8f4cb8eb"
      },
      "execution_count": 38,
      "outputs": [
        {
          "output_type": "stream",
          "name": "stdout",
          "text": [
            "Top 5 most expensive houses:\n"
          ]
        },
        {
          "output_type": "execute_result",
          "data": {
            "text/plain": [
              "            Suburb         Address  Rooms Type      Price Method  \\\n",
              "12094     Mulgrave     35 Bevis St      3    h  9000000.0     PI   \n",
              "7692    Canterbury  49 Mangarra Rd      5    h  8000000.0     VB   \n",
              "9575      Hawthorn    49 Lisson Gr      4    h  7650000.0      S   \n",
              "3616           Kew     15 Barry St      6    h  6500000.0      S   \n",
              "12557  Middle Park     136 Page St      5    h  6400000.0      S   \n",
              "\n",
              "            SellerG       Date  Distance  Postcode  ...  Car  Landsize  \\\n",
              "12094          Hall 2017-07-29      18.8    3170.0  ...  1.0     744.0   \n",
              "7692      Sotheby's 2017-05-13       9.0    3126.0  ...  4.0    2079.0   \n",
              "9575   Abercromby's 2017-06-17       5.3    3122.0  ...  4.0    1690.0   \n",
              "3616         Jellis 2016-08-13       5.6    3101.0  ...  3.0    1334.0   \n",
              "12557      Marshall 2017-09-09       3.0    3206.0  ...  1.0     553.0   \n",
              "\n",
              "       CouncilArea  Lattitude Longtitude                  Regionname  \\\n",
              "12094       Monash  -37.93168  145.16126  South-Eastern Metropolitan   \n",
              "7692    Boroondara  -37.81790  145.06940       Southern Metropolitan   \n",
              "9575    Boroondara  -37.82652  145.03052       Southern Metropolitan   \n",
              "3616    Boroondara  -37.80290  145.02670       Southern Metropolitan   \n",
              "12557     Moreland  -37.84908  144.95753       Southern Metropolitan   \n",
              "\n",
              "       Propertycount Price_per_Room  Year_Sold   Category  \n",
              "12094         7113.0   3.000000e+06       2017  Expensive  \n",
              "7692          3265.0   1.600000e+06       2017  Expensive  \n",
              "9575         11308.0   1.912500e+06       2017  Expensive  \n",
              "3616         10331.0   1.083333e+06       2016  Expensive  \n",
              "12557         2019.0   1.280000e+06       2017  Expensive  \n",
              "\n",
              "[5 rows x 22 columns]"
            ],
            "text/html": [
              "\n",
              "  <div id=\"df-bae9bef9-38bc-4772-9d6d-ca1796afc9d4\" class=\"colab-df-container\">\n",
              "    <div>\n",
              "<style scoped>\n",
              "    .dataframe tbody tr th:only-of-type {\n",
              "        vertical-align: middle;\n",
              "    }\n",
              "\n",
              "    .dataframe tbody tr th {\n",
              "        vertical-align: top;\n",
              "    }\n",
              "\n",
              "    .dataframe thead th {\n",
              "        text-align: right;\n",
              "    }\n",
              "</style>\n",
              "<table border=\"1\" class=\"dataframe\">\n",
              "  <thead>\n",
              "    <tr style=\"text-align: right;\">\n",
              "      <th></th>\n",
              "      <th>Suburb</th>\n",
              "      <th>Address</th>\n",
              "      <th>Rooms</th>\n",
              "      <th>Type</th>\n",
              "      <th>Price</th>\n",
              "      <th>Method</th>\n",
              "      <th>SellerG</th>\n",
              "      <th>Date</th>\n",
              "      <th>Distance</th>\n",
              "      <th>Postcode</th>\n",
              "      <th>...</th>\n",
              "      <th>Car</th>\n",
              "      <th>Landsize</th>\n",
              "      <th>CouncilArea</th>\n",
              "      <th>Lattitude</th>\n",
              "      <th>Longtitude</th>\n",
              "      <th>Regionname</th>\n",
              "      <th>Propertycount</th>\n",
              "      <th>Price_per_Room</th>\n",
              "      <th>Year_Sold</th>\n",
              "      <th>Category</th>\n",
              "    </tr>\n",
              "  </thead>\n",
              "  <tbody>\n",
              "    <tr>\n",
              "      <th>12094</th>\n",
              "      <td>Mulgrave</td>\n",
              "      <td>35 Bevis St</td>\n",
              "      <td>3</td>\n",
              "      <td>h</td>\n",
              "      <td>9000000.0</td>\n",
              "      <td>PI</td>\n",
              "      <td>Hall</td>\n",
              "      <td>2017-07-29</td>\n",
              "      <td>18.8</td>\n",
              "      <td>3170.0</td>\n",
              "      <td>...</td>\n",
              "      <td>1.0</td>\n",
              "      <td>744.0</td>\n",
              "      <td>Monash</td>\n",
              "      <td>-37.93168</td>\n",
              "      <td>145.16126</td>\n",
              "      <td>South-Eastern Metropolitan</td>\n",
              "      <td>7113.0</td>\n",
              "      <td>3.000000e+06</td>\n",
              "      <td>2017</td>\n",
              "      <td>Expensive</td>\n",
              "    </tr>\n",
              "    <tr>\n",
              "      <th>7692</th>\n",
              "      <td>Canterbury</td>\n",
              "      <td>49 Mangarra Rd</td>\n",
              "      <td>5</td>\n",
              "      <td>h</td>\n",
              "      <td>8000000.0</td>\n",
              "      <td>VB</td>\n",
              "      <td>Sotheby's</td>\n",
              "      <td>2017-05-13</td>\n",
              "      <td>9.0</td>\n",
              "      <td>3126.0</td>\n",
              "      <td>...</td>\n",
              "      <td>4.0</td>\n",
              "      <td>2079.0</td>\n",
              "      <td>Boroondara</td>\n",
              "      <td>-37.81790</td>\n",
              "      <td>145.06940</td>\n",
              "      <td>Southern Metropolitan</td>\n",
              "      <td>3265.0</td>\n",
              "      <td>1.600000e+06</td>\n",
              "      <td>2017</td>\n",
              "      <td>Expensive</td>\n",
              "    </tr>\n",
              "    <tr>\n",
              "      <th>9575</th>\n",
              "      <td>Hawthorn</td>\n",
              "      <td>49 Lisson Gr</td>\n",
              "      <td>4</td>\n",
              "      <td>h</td>\n",
              "      <td>7650000.0</td>\n",
              "      <td>S</td>\n",
              "      <td>Abercromby's</td>\n",
              "      <td>2017-06-17</td>\n",
              "      <td>5.3</td>\n",
              "      <td>3122.0</td>\n",
              "      <td>...</td>\n",
              "      <td>4.0</td>\n",
              "      <td>1690.0</td>\n",
              "      <td>Boroondara</td>\n",
              "      <td>-37.82652</td>\n",
              "      <td>145.03052</td>\n",
              "      <td>Southern Metropolitan</td>\n",
              "      <td>11308.0</td>\n",
              "      <td>1.912500e+06</td>\n",
              "      <td>2017</td>\n",
              "      <td>Expensive</td>\n",
              "    </tr>\n",
              "    <tr>\n",
              "      <th>3616</th>\n",
              "      <td>Kew</td>\n",
              "      <td>15 Barry St</td>\n",
              "      <td>6</td>\n",
              "      <td>h</td>\n",
              "      <td>6500000.0</td>\n",
              "      <td>S</td>\n",
              "      <td>Jellis</td>\n",
              "      <td>2016-08-13</td>\n",
              "      <td>5.6</td>\n",
              "      <td>3101.0</td>\n",
              "      <td>...</td>\n",
              "      <td>3.0</td>\n",
              "      <td>1334.0</td>\n",
              "      <td>Boroondara</td>\n",
              "      <td>-37.80290</td>\n",
              "      <td>145.02670</td>\n",
              "      <td>Southern Metropolitan</td>\n",
              "      <td>10331.0</td>\n",
              "      <td>1.083333e+06</td>\n",
              "      <td>2016</td>\n",
              "      <td>Expensive</td>\n",
              "    </tr>\n",
              "    <tr>\n",
              "      <th>12557</th>\n",
              "      <td>Middle Park</td>\n",
              "      <td>136 Page St</td>\n",
              "      <td>5</td>\n",
              "      <td>h</td>\n",
              "      <td>6400000.0</td>\n",
              "      <td>S</td>\n",
              "      <td>Marshall</td>\n",
              "      <td>2017-09-09</td>\n",
              "      <td>3.0</td>\n",
              "      <td>3206.0</td>\n",
              "      <td>...</td>\n",
              "      <td>1.0</td>\n",
              "      <td>553.0</td>\n",
              "      <td>Moreland</td>\n",
              "      <td>-37.84908</td>\n",
              "      <td>144.95753</td>\n",
              "      <td>Southern Metropolitan</td>\n",
              "      <td>2019.0</td>\n",
              "      <td>1.280000e+06</td>\n",
              "      <td>2017</td>\n",
              "      <td>Expensive</td>\n",
              "    </tr>\n",
              "  </tbody>\n",
              "</table>\n",
              "<p>5 rows × 22 columns</p>\n",
              "</div>\n",
              "    <div class=\"colab-df-buttons\">\n",
              "\n",
              "  <div class=\"colab-df-container\">\n",
              "    <button class=\"colab-df-convert\" onclick=\"convertToInteractive('df-bae9bef9-38bc-4772-9d6d-ca1796afc9d4')\"\n",
              "            title=\"Convert this dataframe to an interactive table.\"\n",
              "            style=\"display:none;\">\n",
              "\n",
              "  <svg xmlns=\"http://www.w3.org/2000/svg\" height=\"24px\" viewBox=\"0 -960 960 960\">\n",
              "    <path d=\"M120-120v-720h720v720H120Zm60-500h600v-160H180v160Zm220 220h160v-160H400v160Zm0 220h160v-160H400v160ZM180-400h160v-160H180v160Zm440 0h160v-160H620v160ZM180-180h160v-160H180v160Zm440 0h160v-160H620v160Z\"/>\n",
              "  </svg>\n",
              "    </button>\n",
              "\n",
              "  <style>\n",
              "    .colab-df-container {\n",
              "      display:flex;\n",
              "      gap: 12px;\n",
              "    }\n",
              "\n",
              "    .colab-df-convert {\n",
              "      background-color: #E8F0FE;\n",
              "      border: none;\n",
              "      border-radius: 50%;\n",
              "      cursor: pointer;\n",
              "      display: none;\n",
              "      fill: #1967D2;\n",
              "      height: 32px;\n",
              "      padding: 0 0 0 0;\n",
              "      width: 32px;\n",
              "    }\n",
              "\n",
              "    .colab-df-convert:hover {\n",
              "      background-color: #E2EBFA;\n",
              "      box-shadow: 0px 1px 2px rgba(60, 64, 67, 0.3), 0px 1px 3px 1px rgba(60, 64, 67, 0.15);\n",
              "      fill: #174EA6;\n",
              "    }\n",
              "\n",
              "    .colab-df-buttons div {\n",
              "      margin-bottom: 4px;\n",
              "    }\n",
              "\n",
              "    [theme=dark] .colab-df-convert {\n",
              "      background-color: #3B4455;\n",
              "      fill: #D2E3FC;\n",
              "    }\n",
              "\n",
              "    [theme=dark] .colab-df-convert:hover {\n",
              "      background-color: #434B5C;\n",
              "      box-shadow: 0px 1px 3px 1px rgba(0, 0, 0, 0.15);\n",
              "      filter: drop-shadow(0px 1px 2px rgba(0, 0, 0, 0.3));\n",
              "      fill: #FFFFFF;\n",
              "    }\n",
              "  </style>\n",
              "\n",
              "    <script>\n",
              "      const buttonEl =\n",
              "        document.querySelector('#df-bae9bef9-38bc-4772-9d6d-ca1796afc9d4 button.colab-df-convert');\n",
              "      buttonEl.style.display =\n",
              "        google.colab.kernel.accessAllowed ? 'block' : 'none';\n",
              "\n",
              "      async function convertToInteractive(key) {\n",
              "        const element = document.querySelector('#df-bae9bef9-38bc-4772-9d6d-ca1796afc9d4');\n",
              "        const dataTable =\n",
              "          await google.colab.kernel.invokeFunction('convertToInteractive',\n",
              "                                                    [key], {});\n",
              "        if (!dataTable) return;\n",
              "\n",
              "        const docLinkHtml = 'Like what you see? Visit the ' +\n",
              "          '<a target=\"_blank\" href=https://colab.research.google.com/notebooks/data_table.ipynb>data table notebook</a>'\n",
              "          + ' to learn more about interactive tables.';\n",
              "        element.innerHTML = '';\n",
              "        dataTable['output_type'] = 'display_data';\n",
              "        await google.colab.output.renderOutput(dataTable, element);\n",
              "        const docLink = document.createElement('div');\n",
              "        docLink.innerHTML = docLinkHtml;\n",
              "        element.appendChild(docLink);\n",
              "      }\n",
              "    </script>\n",
              "  </div>\n",
              "\n",
              "\n",
              "<div id=\"df-c3b1d67e-417c-48b7-9d29-3558f3d520de\">\n",
              "  <button class=\"colab-df-quickchart\" onclick=\"quickchart('df-c3b1d67e-417c-48b7-9d29-3558f3d520de')\"\n",
              "            title=\"Suggest charts\"\n",
              "            style=\"display:none;\">\n",
              "\n",
              "<svg xmlns=\"http://www.w3.org/2000/svg\" height=\"24px\"viewBox=\"0 0 24 24\"\n",
              "     width=\"24px\">\n",
              "    <g>\n",
              "        <path d=\"M19 3H5c-1.1 0-2 .9-2 2v14c0 1.1.9 2 2 2h14c1.1 0 2-.9 2-2V5c0-1.1-.9-2-2-2zM9 17H7v-7h2v7zm4 0h-2V7h2v10zm4 0h-2v-4h2v4z\"/>\n",
              "    </g>\n",
              "</svg>\n",
              "  </button>\n",
              "\n",
              "<style>\n",
              "  .colab-df-quickchart {\n",
              "      --bg-color: #E8F0FE;\n",
              "      --fill-color: #1967D2;\n",
              "      --hover-bg-color: #E2EBFA;\n",
              "      --hover-fill-color: #174EA6;\n",
              "      --disabled-fill-color: #AAA;\n",
              "      --disabled-bg-color: #DDD;\n",
              "  }\n",
              "\n",
              "  [theme=dark] .colab-df-quickchart {\n",
              "      --bg-color: #3B4455;\n",
              "      --fill-color: #D2E3FC;\n",
              "      --hover-bg-color: #434B5C;\n",
              "      --hover-fill-color: #FFFFFF;\n",
              "      --disabled-bg-color: #3B4455;\n",
              "      --disabled-fill-color: #666;\n",
              "  }\n",
              "\n",
              "  .colab-df-quickchart {\n",
              "    background-color: var(--bg-color);\n",
              "    border: none;\n",
              "    border-radius: 50%;\n",
              "    cursor: pointer;\n",
              "    display: none;\n",
              "    fill: var(--fill-color);\n",
              "    height: 32px;\n",
              "    padding: 0;\n",
              "    width: 32px;\n",
              "  }\n",
              "\n",
              "  .colab-df-quickchart:hover {\n",
              "    background-color: var(--hover-bg-color);\n",
              "    box-shadow: 0 1px 2px rgba(60, 64, 67, 0.3), 0 1px 3px 1px rgba(60, 64, 67, 0.15);\n",
              "    fill: var(--button-hover-fill-color);\n",
              "  }\n",
              "\n",
              "  .colab-df-quickchart-complete:disabled,\n",
              "  .colab-df-quickchart-complete:disabled:hover {\n",
              "    background-color: var(--disabled-bg-color);\n",
              "    fill: var(--disabled-fill-color);\n",
              "    box-shadow: none;\n",
              "  }\n",
              "\n",
              "  .colab-df-spinner {\n",
              "    border: 2px solid var(--fill-color);\n",
              "    border-color: transparent;\n",
              "    border-bottom-color: var(--fill-color);\n",
              "    animation:\n",
              "      spin 1s steps(1) infinite;\n",
              "  }\n",
              "\n",
              "  @keyframes spin {\n",
              "    0% {\n",
              "      border-color: transparent;\n",
              "      border-bottom-color: var(--fill-color);\n",
              "      border-left-color: var(--fill-color);\n",
              "    }\n",
              "    20% {\n",
              "      border-color: transparent;\n",
              "      border-left-color: var(--fill-color);\n",
              "      border-top-color: var(--fill-color);\n",
              "    }\n",
              "    30% {\n",
              "      border-color: transparent;\n",
              "      border-left-color: var(--fill-color);\n",
              "      border-top-color: var(--fill-color);\n",
              "      border-right-color: var(--fill-color);\n",
              "    }\n",
              "    40% {\n",
              "      border-color: transparent;\n",
              "      border-right-color: var(--fill-color);\n",
              "      border-top-color: var(--fill-color);\n",
              "    }\n",
              "    60% {\n",
              "      border-color: transparent;\n",
              "      border-right-color: var(--fill-color);\n",
              "    }\n",
              "    80% {\n",
              "      border-color: transparent;\n",
              "      border-right-color: var(--fill-color);\n",
              "      border-bottom-color: var(--fill-color);\n",
              "    }\n",
              "    90% {\n",
              "      border-color: transparent;\n",
              "      border-bottom-color: var(--fill-color);\n",
              "    }\n",
              "  }\n",
              "</style>\n",
              "\n",
              "  <script>\n",
              "    async function quickchart(key) {\n",
              "      const quickchartButtonEl =\n",
              "        document.querySelector('#' + key + ' button');\n",
              "      quickchartButtonEl.disabled = true;  // To prevent multiple clicks.\n",
              "      quickchartButtonEl.classList.add('colab-df-spinner');\n",
              "      try {\n",
              "        const charts = await google.colab.kernel.invokeFunction(\n",
              "            'suggestCharts', [key], {});\n",
              "      } catch (error) {\n",
              "        console.error('Error during call to suggestCharts:', error);\n",
              "      }\n",
              "      quickchartButtonEl.classList.remove('colab-df-spinner');\n",
              "      quickchartButtonEl.classList.add('colab-df-quickchart-complete');\n",
              "    }\n",
              "    (() => {\n",
              "      let quickchartButtonEl =\n",
              "        document.querySelector('#df-c3b1d67e-417c-48b7-9d29-3558f3d520de button');\n",
              "      quickchartButtonEl.style.display =\n",
              "        google.colab.kernel.accessAllowed ? 'block' : 'none';\n",
              "    })();\n",
              "  </script>\n",
              "</div>\n",
              "\n",
              "    </div>\n",
              "  </div>\n"
            ],
            "application/vnd.google.colaboratory.intrinsic+json": {
              "type": "dataframe",
              "variable_name": "df_sorted"
            }
          },
          "metadata": {},
          "execution_count": 38
        }
      ]
    },
    {
      "cell_type": "markdown",
      "source": [
        "## **Task 3: Data Transformation & Feature Engineering**"
      ],
      "metadata": {
        "id": "LCL7VPTXQ-Jt"
      }
    },
    {
      "cell_type": "code",
      "source": [
        "# Step 1: Create new column for price per room\n",
        "df[\"Price_per_Room\"] = df[\"Price\"] / df[\"Rooms\"]\n",
        "print(\"Created 'Price_per_Room' column:\")\n",
        "print(df[[\"Price\", \"Rooms\", \"Price_per_Room\"]].head())"
      ],
      "metadata": {
        "colab": {
          "base_uri": "https://localhost:8080/"
        },
        "id": "-bLsEX89RDCT",
        "outputId": "45f67137-5be1-427a-a958-c76923c5b4e1"
      },
      "execution_count": 34,
      "outputs": [
        {
          "output_type": "stream",
          "name": "stdout",
          "text": [
            "Created 'Price_per_Room' column:\n",
            "       Price  Rooms  Price_per_Room\n",
            "0  1480000.0      2   740000.000000\n",
            "1  1035000.0      2   517500.000000\n",
            "2  1465000.0      3   488333.333333\n",
            "3   850000.0      3   283333.333333\n",
            "4  1600000.0      4   400000.000000\n"
          ]
        }
      ]
    },
    {
      "cell_type": "code",
      "source": [
        "# Step 2: Convert 'Date' column to datetime format\n",
        "df[\"Date\"] = pd.to_datetime(df[\"Date\"], dayfirst=True)\n",
        "print(\"Converted 'Date' column to datetime format.\")"
      ],
      "metadata": {
        "colab": {
          "base_uri": "https://localhost:8080/"
        },
        "id": "ETPGE8zCRI2E",
        "outputId": "cc60407d-ffaa-42af-b292-14d4f294ee7e"
      },
      "execution_count": 35,
      "outputs": [
        {
          "output_type": "stream",
          "name": "stdout",
          "text": [
            "Converted 'Date' column to datetime format.\n"
          ]
        }
      ]
    },
    {
      "cell_type": "code",
      "source": [
        "# Step 3: Extract year of sale\n",
        "df[\"Year_Sold\"] = df[\"Date\"].dt.year\n",
        "print(\"Extracted 'Year_Sold' from 'Date':\")\n",
        "print(df[[\"Date\", \"Year_Sold\"]].head())"
      ],
      "metadata": {
        "colab": {
          "base_uri": "https://localhost:8080/"
        },
        "id": "7U9xiQSXRRHF",
        "outputId": "d37a5754-1d8e-4412-9084-6c9aa07fc16c"
      },
      "execution_count": 36,
      "outputs": [
        {
          "output_type": "stream",
          "name": "stdout",
          "text": [
            "Extracted 'Year_Sold' from 'Date':\n",
            "        Date  Year_Sold\n",
            "0 2016-12-03       2016\n",
            "1 2016-02-04       2016\n",
            "2 2017-03-04       2017\n",
            "3 2017-03-04       2017\n",
            "4 2016-06-04       2016\n"
          ]
        }
      ]
    },
    {
      "cell_type": "code",
      "source": [],
      "metadata": {
        "id": "dUv3o5FtRXjU"
      },
      "execution_count": null,
      "outputs": []
    },
    {
      "cell_type": "markdown",
      "source": [
        "## **Task 4: Aggregation and Grouping**"
      ],
      "metadata": {
        "id": "fv8uTHwVRaxF"
      }
    },
    {
      "cell_type": "code",
      "source": [
        "# Step 1: Find the average price of properties in each suburb\n",
        "suburb_avg_price = df.groupby(\"Suburb\")[\"Price\"].mean()\n",
        "print(suburb_avg_price)"
      ],
      "metadata": {
        "colab": {
          "base_uri": "https://localhost:8080/"
        },
        "id": "F8NamnkURcys",
        "outputId": "8c4aeca3-6aa9-40d8-8fbb-74ff73157485"
      },
      "execution_count": 33,
      "outputs": [
        {
          "output_type": "stream",
          "name": "stdout",
          "text": [
            "Suburb\n",
            "Abbotsford      1.060366e+06\n",
            "Aberfeldie      1.277455e+06\n",
            "Airport West    7.566567e+05\n",
            "Albanvale       5.370833e+05\n",
            "Albert Park     1.941355e+06\n",
            "                    ...     \n",
            "Wonga Park      9.000000e+05\n",
            "Wyndham Vale    4.832500e+05\n",
            "Yallambie       8.396875e+05\n",
            "Yarra Glen      6.200000e+05\n",
            "Yarraville      9.886155e+05\n",
            "Name: Price, Length: 314, dtype: float64\n"
          ]
        }
      ]
    },
    {
      "cell_type": "code",
      "source": [
        "# Step 2: Count number of properties sold per suburb\n",
        "properties_per_suburb = df.groupby(\"Suburb\")[\"Price\"].count()\n",
        "print(\"Total number of properties sold per suburb:\")\n",
        "print(properties_per_suburb.head())"
      ],
      "metadata": {
        "colab": {
          "base_uri": "https://localhost:8080/"
        },
        "id": "65tsuviZRkdU",
        "outputId": "6f503a1e-533f-435a-b42f-11ad50e7484a"
      },
      "execution_count": 32,
      "outputs": [
        {
          "output_type": "stream",
          "name": "stdout",
          "text": [
            "Total number of properties sold per suburb:\n",
            "Suburb\n",
            "Abbotsford      56\n",
            "Aberfeldie      44\n",
            "Airport West    67\n",
            "Albanvale        6\n",
            "Albert Park     69\n",
            "Name: Price, dtype: int64\n"
          ]
        }
      ]
    },
    {
      "cell_type": "code",
      "source": [
        "# Step 3: Identify the suburb with the highest average price\n",
        "most_expensive_suburb = suburb_avg_price.idxmax()\n",
        "print(\"Most expensive suburb:\", most_expensive_suburb)"
      ],
      "metadata": {
        "colab": {
          "base_uri": "https://localhost:8080/"
        },
        "id": "0XCd4LBWRp2W",
        "outputId": "cf6c3bb1-6214-4250-96ad-5f57e4fb08c0"
      },
      "execution_count": 30,
      "outputs": [
        {
          "output_type": "stream",
          "name": "stdout",
          "text": [
            "Most expensive suburb: Kooyong\n"
          ]
        }
      ]
    },
    {
      "cell_type": "markdown",
      "source": [
        "## **Task 5: Exporting & Reporting Data**"
      ],
      "metadata": {
        "id": "-o6npZmMSq_2"
      }
    },
    {
      "cell_type": "code",
      "source": [
        "# Save cleaned dataset to CSV\n",
        "df.to_csv('cleaned_melb_data.csv', index=False)\n",
        "print(\"Saved cleaned data as 'cleaned_melb_data.csv'.\")"
      ],
      "metadata": {
        "colab": {
          "base_uri": "https://localhost:8080/"
        },
        "id": "Gm4LvZdFUsr5",
        "outputId": "d4c605a5-659f-4792-a47b-cc0b2904349d"
      },
      "execution_count": 29,
      "outputs": [
        {
          "output_type": "stream",
          "name": "stdout",
          "text": [
            "Saved cleaned data as 'cleaned_melb_data.csv'.\n"
          ]
        }
      ]
    },
    {
      "cell_type": "code",
      "source": [
        "# Plot average price of top 10 suburbs\n",
        "suburb_avg_price.head(10).plot(kind=\"bar\")\n",
        "plt.title(\"Average House Prices in Top 10 Suburbs\")\n",
        "plt.xlabel(\"Suburb\")"
      ],
      "metadata": {
        "colab": {
          "base_uri": "https://localhost:8080/",
          "height": 589
        },
        "id": "ZkRC2KPdSv7I",
        "outputId": "047b8a2a-28b9-446c-e575-aba7db4f91e9"
      },
      "execution_count": 31,
      "outputs": [
        {
          "output_type": "execute_result",
          "data": {
            "text/plain": [
              "Text(0.5, 0, 'Suburb')"
            ]
          },
          "metadata": {},
          "execution_count": 31
        },
        {
          "output_type": "display_data",
          "data": {
            "text/plain": [
              "<Figure size 640x480 with 1 Axes>"
            ],
            "image/png": "[encoded data removed]"
          },
          "metadata": {}
        }
      ]
    },
    {
      "cell_type": "markdown",
      "source": [
        "## **Bonus Challenge**"
      ],
      "metadata": {
        "id": "SuwDYDZeR8Jl"
      }
    },
    {
      "cell_type": "code",
      "source": [
        "# Step 1: Classify houses as 'Expensive' or 'Affordable' based on median price\n",
        "median_price = df[\"Price\"].median()\n",
        "df[\"Category\"] = df[\"Price\"].apply(lambda x: \"Expensive\" if x > median_price else \"Affordable\")\n",
        "print(\"Classified properties as 'Expensive' or 'Affordable':\")\n",
        "print(df[[\"Price\", \"Category\"]].head())"
      ],
      "metadata": {
        "colab": {
          "base_uri": "https://localhost:8080/"
        },
        "id": "QF9iY8jVSFfN",
        "outputId": "f5996388-03ca-406c-9a72-756c5e697e0c"
      },
      "execution_count": 28,
      "outputs": [
        {
          "output_type": "stream",
          "name": "stdout",
          "text": [
            "Classified properties as 'Expensive' or 'Affordable':\n",
            "       Price    Category\n",
            "0  1480000.0   Expensive\n",
            "1  1035000.0   Expensive\n",
            "2  1465000.0   Expensive\n",
            "3   850000.0  Affordable\n",
            "4  1600000.0   Expensive\n"
          ]
        }
      ]
    },
    {
      "cell_type": "code",
      "source": [
        "\n",
        "# Step 2: Calculate correlation between price and number of rooms\n",
        "correlation = df[['Price', 'Rooms']].corr()\n",
        "print(\"Correlation between Price and Rooms:\\n\", correlation)"
      ],
      "metadata": {
        "colab": {
          "base_uri": "https://localhost:8080/"
        },
        "id": "K_LQ3rHISNd-",
        "outputId": "36479d06-a8d7-4414-ad4e-65437133d7e1"
      },
      "execution_count": 27,
      "outputs": [
        {
          "output_type": "stream",
          "name": "stdout",
          "text": [
            "Correlation between Price and Rooms:\n",
            "           Price     Rooms\n",
            "Price  1.000000  0.496634\n",
            "Rooms  0.496634  1.000000\n"
          ]
        }
      ]
    }
  ]
}