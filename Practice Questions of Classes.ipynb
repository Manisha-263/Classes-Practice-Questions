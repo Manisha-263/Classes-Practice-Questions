{
 "cells": [
  {
   "cell_type": "markdown",
   "id": "be11b1d0",
   "metadata": {},
   "source": [
    "# \" Solved exersice questions of Classes\""
   ]
  },
  {
   "cell_type": "code",
   "execution_count": 18,
   "id": "11651cdf",
   "metadata": {},
   "outputs": [
    {
     "name": "stdout",
     "output_type": "stream",
     "text": [
      "Manisha\n",
      " Manisha is siting!\n"
     ]
    }
   ],
   "source": [
    "# person class\n",
    "# Q no:01\n",
    "class Person:\n",
    "    def __init__(self, name, age, city):\n",
    "        self.name = name\n",
    "        self.age =age\n",
    "        self.city = city\n",
    "    def sit(self):\n",
    "        print(f\" {self.name} is siting!\")\n",
    "person_info = person('Manisha', '19', 'Lahore')\n",
    "print(person_info.name)\n",
    "person_info.sit()\n"
   ]
  },
  {
   "cell_type": "code",
   "execution_count": 17,
   "id": "7bf059de",
   "metadata": {},
   "outputs": [
    {
     "name": "stdout",
     "output_type": "stream",
     "text": [
      "Car: 2024 Toyota Corolla\n"
     ]
    }
   ],
   "source": [
    "# Car class\n",
    "# Q no: 02\n",
    "class Car:\n",
    "    def __init__(self, make, model, year):\n",
    "        self.make = make \n",
    "        self.model = model\n",
    "        self.year = year\n",
    "    def display(self):\n",
    "        return f\"Car: {self.year} {self.make} {self.model}\"\n",
    "car = Car(\"Toyota\", \"Corolla\", \"2024\")\n",
    "print(car.display())"
   ]
  },
  {
   "cell_type": "code",
   "execution_count": 25,
   "id": "5111aab2",
   "metadata": {},
   "outputs": [
    {
     "name": "stdout",
     "output_type": "stream",
     "text": [
      "area: 78.54, circumference: 31.42\n"
     ]
    }
   ],
   "source": [
    "# Q no:03\n",
    "# Circle class\n",
    "import math\n",
    "class circle:\n",
    "    def __init__(self, redius):\n",
    "        self.radius = redius\n",
    "    def calculate_area(self):\n",
    "        return math.pi * (self.radius ** 2)\n",
    "    def calculate_circumference(self):\n",
    "        return 2 * math.pi * self.radius\n",
    "circle = circle(5)\n",
    "print(f\"area: {circle.calculate_area():.2f}, circumference: {circle.calculate_circumference():.2f}\")"
   ]
  },
  {
   "cell_type": "code",
   "execution_count": 28,
   "id": "f10108a5",
   "metadata": {},
   "outputs": [
    {
     "name": "stdout",
     "output_type": "stream",
     "text": [
      "Area of Rectangle: 15\n",
      "Perimeter of Rectangle: 16\n"
     ]
    }
   ],
   "source": [
    "# Q no: 04\n",
    "# Rectangle Class\n",
    "#  Calculated area and perimeter based on length and width.\n",
    "class Rectangle:\n",
    "    def __init__(self, length, width):\n",
    "        self.length = length\n",
    "        self.width = width\n",
    "\n",
    "    def area(self):\n",
    "        return self.length * self.width\n",
    "\n",
    "    def perimeter(self):\n",
    "        return 2 * (self.length + self.width)\n",
    "    \n",
    "rect = Rectangle(5, 3)\n",
    "print(\"Area of Rectangle:\", rect.area())  \n",
    "print(\"Perimeter of Rectangle:\", rect.perimeter())  "
   ]
  },
  {
   "cell_type": "code",
   "execution_count": 27,
   "id": "e2798a72",
   "metadata": {},
   "outputs": [
    {
     "name": "stdout",
     "output_type": "stream",
     "text": [
      "Average Marks: 86.25\n"
     ]
    }
   ],
   "source": [
    "# Q no: 05\n",
    "# Student Class\n",
    "#  Calculated average marks from a list of marks.\n",
    "class Student:\n",
    "    def __init__(self, name, roll_number, marks):\n",
    "        self.name = name\n",
    "        self.roll_number = roll_number\n",
    "        self.marks = marks\n",
    "\n",
    "    def average_marks(self):\n",
    "        return sum(self.marks) / len(self.marks)\n",
    "\n",
    "student = Student(\"John\", 101, [85, 90, 78, 92])\n",
    "print(\"Average Marks:\", student.average_marks())"
   ]
  },
  {
   "cell_type": "code",
   "execution_count": 29,
   "id": "d40a6871",
   "metadata": {},
   "outputs": [
    {
     "name": "stdout",
     "output_type": "stream",
     "text": [
      "Book Title: 1984\n",
      "Book Author: George Orwell\n",
      "Publication Year: 1949\n"
     ]
    }
   ],
   "source": [
    "# Q no: 06\n",
    "# Book Class\n",
    "#   Printed title, author, and publication year.\n",
    "class Book:\n",
    "    def __init__(self, title, author, publication_year):\n",
    "        self.title = title\n",
    "        self.author = author\n",
    "        self.publication_year = publication_year\n",
    "\n",
    "# Example usage:\n",
    "book = Book(\"1984\", \"George Orwell\", 1949)\n",
    "print(\"Book Title:\", book.title)  \n",
    "print(\"Book Author:\", book.author)  \n",
    "print(\"Publication Year:\", book.publication_year) "
   ]
  },
  {
   "cell_type": "code",
   "execution_count": 30,
   "id": "4f42cd3b",
   "metadata": {},
   "outputs": [
    {
     "name": "stdout",
     "output_type": "stream",
     "text": [
      "Employee Name: Alice\n",
      "Employee Salary: 50000\n",
      "Employee Designation: Manager\n"
     ]
    }
   ],
   "source": [
    "# Q no :07\n",
    "# Employee Class\n",
    "# Displayed name, salary, and designation.\n",
    "class Employee:\n",
    "    def __init__(self, name, salary, designation):\n",
    "        self.name = name\n",
    "        self.salary = salary\n",
    "        self.designation = designation\n",
    "\n",
    "# Example usage:\n",
    "employee = Employee(\"Alice\", 50000, \"Manager\")\n",
    "print(\"Employee Name:\", employee.name)  \n",
    "print(\"Employee Salary:\", employee.salary) \n",
    "print(\"Employee Designation:\", employee.designation)"
   ]
  },
  {
   "cell_type": "code",
   "execution_count": 31,
   "id": "c01a16c5",
   "metadata": {},
   "outputs": [
    {
     "name": "stdout",
     "output_type": "stream",
     "text": [
      "Deposited 500. Current balance: 1500\n",
      "Withdrew 700. Current balance: 800\n",
      "Insufficient balance!\n"
     ]
    }
   ],
   "source": [
    "# Q no : 08\n",
    "# Bank Class\n",
    "# Performed deposit and withdrawal operations while managing balance.  \n",
    "class Bank:\n",
    "    def __init__(self, name, account_number, balance=0):\n",
    "        self.name = name\n",
    "        self.account_number = account_number\n",
    "        self.balance = balance\n",
    "\n",
    "    def deposit(self, amount):\n",
    "        self.balance += amount\n",
    "        print(f\"Deposited {amount}. Current balance: {self.balance}\")\n",
    "\n",
    "    def withdraw(self, amount):\n",
    "        if amount <= self.balance:\n",
    "            self.balance -= amount\n",
    "            print(f\"Withdrew {amount}. Current balance: {self.balance}\")\n",
    "        else:\n",
    "            print(\"Insufficient balance!\")\n",
    "\n",
    "# Example usage:\n",
    "bank_account = Bank(\"John's Account\", \"1234567890\", 1000)\n",
    "bank_account.deposit(500)  \n",
    "bank_account.withdraw(700) \n",
    "bank_account.withdraw(1000)  "
   ]
  },
  {
   "cell_type": "code",
   "execution_count": null,
   "id": "8ca223a5",
   "metadata": {},
   "outputs": [],
   "source": []
  }
 ],
 "metadata": {
  "kernelspec": {
   "display_name": "Python 3 (ipykernel)",
   "language": "python",
   "name": "python3"
  },
  "language_info": {
   "codemirror_mode": {
    "name": "ipython",
    "version": 3
   },
   "file_extension": ".py",
   "mimetype": "text/x-python",
   "name": "python",
   "nbconvert_exporter": "python",
   "pygments_lexer": "ipython3",
   "version": "3.11.5"
  }
 },
 "nbformat": 4,
 "nbformat_minor": 5
}
